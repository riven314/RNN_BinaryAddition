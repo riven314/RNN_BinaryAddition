{
 "cells": [
  {
   "cell_type": "markdown",
   "metadata": {},
   "source": [
    "### Summary\n",
    "- Train the final model selected in *hyperparameters_analysis.ipynb* with full training set <br>\n",
    "- Number of batch = 62 because training sample size has to be divisible by batch size\n",
    "- Using same test set, train for 6 rounds to see the stability\n",
    "- Using 6 different test set for training to see the stability"
   ]
  },
  {
   "cell_type": "code",
   "execution_count": 2,
   "metadata": {},
   "outputs": [
    {
     "name": "stdout",
     "output_type": "stream",
     "text": [
      "Data Path = data/data.txt\n"
     ]
    }
   ],
   "source": [
    "from macro_util import *\n",
    "import matplotlib.pyplot as plt\n",
    "%matplotlib inline\n",
    "\n",
    "FILENAME = 'data/data.txt'\n",
    "print('Data Path = {}'.format(FILENAME))"
   ]
  },
  {
   "cell_type": "code",
   "execution_count": 3,
   "metadata": {
    "scrolled": true
   },
   "outputs": [
    {
     "name": "stdout",
     "output_type": "stream",
     "text": [
      "x and y are flipped upsided down\n",
      "x shape = (5000, 8, 2)\n",
      "y shape = (5000, 8)\n",
      "train_x shape = (3968, 8, 2)\n",
      "train_y shape = (3968, 8)\n",
      "test_x shape = (1000, 8, 2)\n",
      "test_y shape = (1000, 8)\n",
      "x and y are flipped upsided down\n",
      "x shape = (5000, 8, 2)\n",
      "y shape = (5000, 8)\n",
      "train_x shape = (3968, 8, 2)\n",
      "train_y shape = (3968, 8)\n",
      "test_x shape = (1000, 8, 2)\n",
      "test_y shape = (1000, 8)\n",
      "x and y are flipped upsided down\n",
      "x shape = (5000, 8, 2)\n",
      "y shape = (5000, 8)\n",
      "train_x shape = (3968, 8, 2)\n",
      "train_y shape = (3968, 8)\n",
      "test_x shape = (1000, 8, 2)\n",
      "test_y shape = (1000, 8)\n",
      "x and y are flipped upsided down\n",
      "x shape = (5000, 8, 2)\n",
      "y shape = (5000, 8)\n",
      "train_x shape = (3968, 8, 2)\n",
      "train_y shape = (3968, 8)\n",
      "test_x shape = (1000, 8, 2)\n",
      "test_y shape = (1000, 8)\n",
      "x and y are flipped upsided down\n",
      "x shape = (5000, 8, 2)\n",
      "y shape = (5000, 8)\n",
      "train_x shape = (3968, 8, 2)\n",
      "train_y shape = (3968, 8)\n",
      "test_x shape = (1000, 8, 2)\n",
      "test_y shape = (1000, 8)\n",
      "x and y are flipped upsided down\n",
      "x shape = (5000, 8, 2)\n",
      "y shape = (5000, 8)\n",
      "train_x shape = (3968, 8, 2)\n",
      "train_y shape = (3968, 8)\n",
      "test_x shape = (1000, 8, 2)\n",
      "test_y shape = (1000, 8)\n",
      "[Accuracy] Mean = 0.9974, Std = 0.0057\n",
      "[Cost] Mean = 0.0496, Std = 0.0823\n"
     ]
    },
    {
     "data": {
      "image/png": "[encoded data removed]",
      "text/plain": [
       "<Figure size 432x288 with 2 Axes>"
      ]
     },
     "metadata": {
      "needs_background": "light"
     },
     "output_type": "display_data"
    }
   ],
   "source": [
    "test_acc_list, test_cost_list = [], []\n",
    "for i in range(6):\n",
    "    hyperparam_cache = {'filename': FILENAME,\n",
    "                                    'batch_size': 64,\n",
    "                                    'n_mb': 62,\n",
    "                                    'num4test': 1000,\n",
    "                                    'n_epoch': 20,\n",
    "                                    'is_flip': True,\n",
    "                                    'rnn_type': 'gru',\n",
    "                                    'hidden_dims': [4, 4, 4], \n",
    "                                    'hidden_activation': 'tanh',\n",
    "                                    'init_method': 'naive',\n",
    "                                    'lr': 0.01, \n",
    "                                    'opt_method': 'adam',\n",
    "                                    'is_print_metrics': False,\n",
    "                                    'is_plot_metrics': False,\n",
    "                                    'shuff_seed': None}\n",
    "    test_acc, test_cost = macro_run(hyperparam_cache)\n",
    "    test_acc_list.append(test_acc)\n",
    "    test_cost_list.append(test_cost)\n",
    "get_metrics_hist(test_acc_list, test_cost_list)"
   ]
  },
  {
   "cell_type": "code",
   "execution_count": 4,
   "metadata": {
    "scrolled": true
   },
   "outputs": [
    {
     "name": "stdout",
     "output_type": "stream",
     "text": [
      "x and y are flipped upsided down\n",
      "x shape = (5000, 8, 2)\n",
      "y shape = (5000, 8)\n",
      "train_x shape = (3968, 8, 2)\n",
      "train_y shape = (3968, 8)\n",
      "test_x shape = (1000, 8, 2)\n",
      "test_y shape = (1000, 8)\n",
      "x and y are flipped upsided down\n",
      "x shape = (5000, 8, 2)\n",
      "y shape = (5000, 8)\n",
      "train_x shape = (3968, 8, 2)\n",
      "train_y shape = (3968, 8)\n",
      "test_x shape = (1000, 8, 2)\n",
      "test_y shape = (1000, 8)\n",
      "x and y are flipped upsided down\n",
      "x shape = (5000, 8, 2)\n",
      "y shape = (5000, 8)\n",
      "train_x shape = (3968, 8, 2)\n",
      "train_y shape = (3968, 8)\n",
      "test_x shape = (1000, 8, 2)\n",
      "test_y shape = (1000, 8)\n",
      "x and y are flipped upsided down\n",
      "x shape = (5000, 8, 2)\n",
      "y shape = (5000, 8)\n",
      "train_x shape = (3968, 8, 2)\n",
      "train_y shape = (3968, 8)\n",
      "test_x shape = (1000, 8, 2)\n",
      "test_y shape = (1000, 8)\n",
      "x and y are flipped upsided down\n",
      "x shape = (5000, 8, 2)\n",
      "y shape = (5000, 8)\n",
      "train_x shape = (3968, 8, 2)\n",
      "train_y shape = (3968, 8)\n",
      "test_x shape = (1000, 8, 2)\n",
      "test_y shape = (1000, 8)\n",
      "x and y are flipped upsided down\n",
      "x shape = (5000, 8, 2)\n",
      "y shape = (5000, 8)\n",
      "train_x shape = (3968, 8, 2)\n",
      "train_y shape = (3968, 8)\n",
      "test_x shape = (1000, 8, 2)\n",
      "test_y shape = (1000, 8)\n",
      "[Accuracy] Mean = 0.9985, Std = 0.0029\n",
      "[Cost] Mean = 0.0346, Std = 0.0446\n"
     ]
    },
    {
     "data": {
      "image/png": "[encoded data removed]",
      "text/plain": [
       "<Figure size 432x288 with 2 Axes>"
      ]
     },
     "metadata": {
      "needs_background": "light"
     },
     "output_type": "display_data"
    }
   ],
   "source": [
    "test_acc_list, test_cost_list = [], []\n",
    "for rand_seed in [101, 102, 103, 104, 105, 106]:\n",
    "    hyperparam_cache = {'filename': FILENAME,\n",
    "                                    'batch_size': 64,\n",
    "                                    'n_mb': 62,\n",
    "                                    'num4test': 1000,\n",
    "                                    'n_epoch': 20,\n",
    "                                    'is_flip': True,\n",
    "                                    'rnn_type': 'gru',\n",
    "                                    'hidden_dims': [4, 4, 4],\n",
    "                                    'hidden_activation': 'tanh',\n",
    "                                    'init_method': 'naive',\n",
    "                                    'lr': 0.01, \n",
    "                                    'opt_method': 'adam',\n",
    "                                    'is_print_metrics': False,\n",
    "                                    'is_plot_metrics': False,\n",
    "                                    'shuff_seed': rand_seed}\n",
    "    test_acc, test_cost = macro_run(hyperparam_cache)\n",
    "    test_acc_list.append(test_acc)\n",
    "    test_cost_list.append(test_cost)\n",
    "get_metrics_hist(test_acc_list, test_cost_list)"
   ]
  },
  {
   "cell_type": "markdown",
   "metadata": {},
   "source": [
    "### Conclusion\n",
    "The final model is shown to be robust and stable."
   ]
  }
 ],
 "metadata": {
  "kernelspec": {
   "display_name": "Python 3",
   "language": "python",
   "name": "python3"
  },
  "language_info": {
   "codemirror_mode": {
    "name": "ipython",
    "version": 3
   },
   "file_extension": ".py",
   "mimetype": "text/x-python",
   "name": "python",
   "nbconvert_exporter": "python",
   "pygments_lexer": "ipython3",
   "version": "3.6.7"
  }
 },
 "nbformat": 4,
 "nbformat_minor": 2
}
